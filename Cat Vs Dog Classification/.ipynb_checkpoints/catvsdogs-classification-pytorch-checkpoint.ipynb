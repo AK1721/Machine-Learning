{
 "cells": [
  {
   "cell_type": "code",
   "execution_count": 1,
   "metadata": {
    "_cell_guid": "b1076dfc-b9ad-4769-8c92-a6c4dae69d19",
    "_uuid": "8f2839f25d086af736a60e9eeb907d3b93b6e0e5",
    "execution": {
     "iopub.execute_input": "2022-02-09T16:26:29.754074Z",
     "iopub.status.busy": "2022-02-09T16:26:29.753408Z",
     "iopub.status.idle": "2022-02-09T16:26:31.313558Z",
     "shell.execute_reply": "2022-02-09T16:26:31.314083Z",
     "shell.execute_reply.started": "2022-02-09T16:16:16.331525Z"
    },
    "papermill": {
     "duration": 1.580823,
     "end_time": "2022-02-09T16:26:31.314347",
     "exception": false,
     "start_time": "2022-02-09T16:26:29.733524",
     "status": "completed"
    },
    "tags": []
   },
   "outputs": [],
   "source": [
    "from torchvision.datasets import ImageFolder\n",
    "from torchvision import transforms\n",
    "from torch.utils.data import DataLoader\n",
    "from torch.utils.data.sampler import SubsetRandomSampler\n",
    "import torch\n",
    "import torch.nn as nn\n",
    "import torch.nn.functional as F\n",
    "import numpy as np\n",
    "import datetime\n",
    "import matplotlib.pyplot as plt"
   ]
  },
  {
   "cell_type": "markdown",
   "metadata": {
    "papermill": {
     "duration": 0.007653,
     "end_time": "2022-02-09T16:26:31.332695",
     "exception": false,
     "start_time": "2022-02-09T16:26:31.325042",
     "status": "completed"
    },
    "tags": []
   },
   "source": [
    "# Data preprocessing"
   ]
  },
  {
   "cell_type": "code",
   "execution_count": 2,
   "metadata": {
    "execution": {
     "iopub.execute_input": "2022-02-09T16:26:31.356329Z",
     "iopub.status.busy": "2022-02-09T16:26:31.355793Z",
     "iopub.status.idle": "2022-02-09T16:26:38.597347Z",
     "shell.execute_reply": "2022-02-09T16:26:38.596779Z",
     "shell.execute_reply.started": "2022-02-09T15:27:42.693441Z"
    },
    "papermill": {
     "duration": 7.257033,
     "end_time": "2022-02-09T16:26:38.597484",
     "exception": false,
     "start_time": "2022-02-09T16:26:31.340451",
     "status": "completed"
    },
    "tags": []
   },
   "outputs": [],
   "source": [
    "transform = transforms.Compose([\n",
    "    transforms.Resize((100, 100)),\n",
    "    transforms.RandomHorizontalFlip(p=0.5),\n",
    "    transforms.RandomRotation(25),\n",
    "    transforms.RandomVerticalFlip(p=0.1),\n",
    "    transforms.ToTensor(),\n",
    "])\n",
    "\n",
    "train_data = ImageFolder(\"../input/cat-and-dog/training_set/training_set\", transform=transform)\n",
    "test_data = ImageFolder(\"../input/cat-and-dog/test_set/test_set\", transform=transform)\n",
    "\n",
    "validation_split = 0.2\n",
    "random_seed = 11\n",
    "dataset_size = len(train_data)\n",
    "indices = list(range(dataset_size))\n",
    "split = int(np.floor(dataset_size * validation_split))\n",
    "\n",
    "np.random.seed(random_seed)\n",
    "np.random.shuffle(indices)\n",
    "\n",
    "train_indices, val_indices = indices[split:], indices[:split]\n",
    "\n",
    "train_sampler = SubsetRandomSampler(train_indices)\n",
    "val_sampler = SubsetRandomSampler(val_indices)\n",
    "\n",
    "batch_size = 16\n",
    "train_loader = DataLoader(train_data, batch_size=batch_size, sampler=train_sampler)\n",
    "val_loader = DataLoader(train_data, batch_size=batch_size, sampler=val_sampler)\n",
    "\n",
    "test_loader = DataLoader(test_data, batch_size=batch_size)"
   ]
  },
  {
   "cell_type": "markdown",
   "metadata": {
    "papermill": {
     "duration": 0.00774,
     "end_time": "2022-02-09T16:26:38.613488",
     "exception": false,
     "start_time": "2022-02-09T16:26:38.605748",
     "status": "completed"
    },
    "tags": []
   },
   "source": [
    "# The CNN Model"
   ]
  },
  {
   "cell_type": "code",
   "execution_count": 3,
   "metadata": {
    "execution": {
     "iopub.execute_input": "2022-02-09T16:26:38.642909Z",
     "iopub.status.busy": "2022-02-09T16:26:38.642272Z",
     "iopub.status.idle": "2022-02-09T16:26:41.338441Z",
     "shell.execute_reply": "2022-02-09T16:26:41.337823Z",
     "shell.execute_reply.started": "2022-02-09T15:39:14.454160Z"
    },
    "papermill": {
     "duration": 2.717287,
     "end_time": "2022-02-09T16:26:41.338566",
     "exception": false,
     "start_time": "2022-02-09T16:26:38.621279",
     "status": "completed"
    },
    "tags": []
   },
   "outputs": [],
   "source": [
    "model = nn.Sequential(\n",
    "    nn.Conv2d(3, 32, kernel_size=3, padding=1, bias=False),\n",
    "    nn.ReLU(),\n",
    "    nn.BatchNorm2d(32),\n",
    "    nn.Conv2d(32, 32, kernel_size=3, padding=1, bias=False),\n",
    "    nn.ReLU(),\n",
    "    nn.BatchNorm2d(32),\n",
    "    nn.MaxPool2d(2),\n",
    "    nn.Dropout(0.2),\n",
    "    \n",
    "    nn.Conv2d(32, 64, kernel_size=3, padding=1, bias=False),\n",
    "    nn.ReLU(),\n",
    "    nn.BatchNorm2d(64),\n",
    "    nn.Conv2d(64, 64, kernel_size=3, padding=1, bias=False),\n",
    "    nn.ReLU(),\n",
    "    nn.BatchNorm2d(64),\n",
    "    nn.MaxPool2d(2),\n",
    "    nn.Dropout(0.2),\n",
    "    \n",
    "    nn.Conv2d(64, 128, kernel_size=3, padding=1, bias=False),\n",
    "    nn.ReLU(),\n",
    "    nn.BatchNorm2d(128),\n",
    "    nn.Conv2d(128, 128, kernel_size=3, padding=1, bias=False),\n",
    "    nn.ReLU(),\n",
    "    nn.BatchNorm2d(128),\n",
    "    nn.MaxPool2d(2),\n",
    "    nn.Dropout(0.2),\n",
    "    \n",
    "    nn.Conv2d(128, 256, kernel_size=3, padding=1, bias=False),\n",
    "    nn.ReLU(),\n",
    "    nn.BatchNorm2d(256),\n",
    "    nn.Conv2d(256, 256, kernel_size=3, padding=1, bias=False),\n",
    "    nn.ReLU(),\n",
    "    nn.BatchNorm2d(256),\n",
    "    nn.MaxPool2d(2),\n",
    "    nn.Dropout(0.2),\n",
    "    \n",
    "    nn.Flatten(),\n",
    "    nn.Linear(256*6*6, 1024),\n",
    "    nn.ReLU(),\n",
    "    nn.Linear(1024, 512),\n",
    "    nn.ReLU(),\n",
    "    nn.Linear(512, 2)\n",
    ")\n",
    "device = torch.device(\"cuda:0\")\n",
    "model.to(device)\n",
    "criterion = nn.CrossEntropyLoss()\n",
    "optimizer = torch.optim.Adam(model.parameters())"
   ]
  },
  {
   "cell_type": "markdown",
   "metadata": {
    "papermill": {
     "duration": 0.007803,
     "end_time": "2022-02-09T16:26:41.354515",
     "exception": false,
     "start_time": "2022-02-09T16:26:41.346712",
     "status": "completed"
    },
    "tags": []
   },
   "source": [
    "# Training on the data"
   ]
  },
  {
   "cell_type": "code",
   "execution_count": 4,
   "metadata": {
    "execution": {
     "iopub.execute_input": "2022-02-09T16:26:41.373176Z",
     "iopub.status.busy": "2022-02-09T16:26:41.372362Z",
     "iopub.status.idle": "2022-02-09T17:03:37.319629Z",
     "shell.execute_reply": "2022-02-09T17:03:37.320231Z",
     "shell.execute_reply.started": "2022-02-09T15:39:33.029142Z"
    },
    "papermill": {
     "duration": 2215.9581,
     "end_time": "2022-02-09T17:03:37.320440",
     "exception": false,
     "start_time": "2022-02-09T16:26:41.362340",
     "status": "completed"
    },
    "tags": []
   },
   "outputs": [
    {
     "name": "stdout",
     "output_type": "stream",
     "text": [
      "epoc 0/60, train loss=0.7337902587399519, test loss=0.7432098229332725, duration=0:01:18.210118\n",
      "epoc 1/60, train loss=0.6727472593510835, test loss=0.6636124973249907, duration=0:00:36.234060\n",
      "epoc 2/60, train loss=0.654446504508468, test loss=0.6592197052322992, duration=0:00:36.213839\n",
      "epoc 3/60, train loss=0.6263039873871126, test loss=0.6741258053496333, duration=0:00:36.566732\n",
      "epoc 4/60, train loss=0.6218431769612424, test loss=0.6041220323284073, duration=0:00:36.884864\n",
      "epoc 5/60, train loss=0.5853782878849572, test loss=0.5773878017864605, duration=0:00:36.234443\n",
      "epoc 6/60, train loss=0.5595192593380698, test loss=0.572806063559976, duration=0:00:36.390561\n",
      "epoc 7/60, train loss=0.5593064978830238, test loss=0.6049067740983302, duration=0:00:36.302326\n",
      "epoc 8/60, train loss=0.5289359909117668, test loss=0.5830534876573203, duration=0:00:36.092541\n",
      "epoc 9/60, train loss=0.5136504331208821, test loss=0.5439630614058806, duration=0:00:38.116149\n",
      "epoc 10/60, train loss=0.49459383679447033, test loss=0.51189125174343, duration=0:00:36.684322\n",
      "epoc 11/60, train loss=0.4822750261373948, test loss=0.47897327905244164, duration=0:00:36.421929\n",
      "epoc 12/60, train loss=0.4719869714425389, test loss=0.488972076832658, duration=0:00:36.155358\n",
      "epoc 13/60, train loss=0.4535843582819228, test loss=0.4714965259674752, duration=0:00:36.092930\n",
      "epoc 14/60, train loss=0.4370396494716777, test loss=0.4459019388892863, duration=0:00:36.218906\n",
      "epoc 15/60, train loss=0.4207930888915597, test loss=0.46049235746411993, duration=0:00:36.222400\n",
      "epoc 16/60, train loss=0.4116369919140737, test loss=0.4539726150803047, duration=0:00:36.100265\n",
      "epoc 17/60, train loss=0.38747532037725474, test loss=0.4547120142396134, duration=0:00:36.236531\n",
      "epoc 18/60, train loss=0.3855441554154541, test loss=0.4476374327251227, duration=0:00:35.846896\n",
      "epoc 19/60, train loss=0.3689976468533649, test loss=0.4532963204944488, duration=0:00:36.321999\n",
      "epoc 20/60, train loss=0.3557870864608044, test loss=0.4200481438990867, duration=0:00:36.672307\n",
      "epoc 21/60, train loss=0.3497324273584787, test loss=0.4126124618077042, duration=0:00:36.250353\n",
      "epoc 22/60, train loss=0.33073358061233366, test loss=0.34304996070885424, duration=0:00:35.952803\n",
      "epoc 23/60, train loss=0.32264335930087323, test loss=0.3993704915784373, duration=0:00:35.680040\n",
      "epoc 24/60, train loss=0.3131256065147922, test loss=0.35235808949253644, duration=0:00:35.875220\n",
      "epoc 25/60, train loss=0.3059803186509377, test loss=0.38040075200324014, duration=0:00:35.495298\n",
      "epoc 26/60, train loss=0.2904481803928676, test loss=0.3779861433154876, duration=0:00:35.498079\n",
      "epoc 27/60, train loss=0.2901224986907847, test loss=0.3395968746430803, duration=0:00:35.766045\n",
      "epoc 28/60, train loss=0.2887125576932234, test loss=0.3641517552556378, duration=0:00:35.753364\n",
      "epoc 29/60, train loss=0.2686650660771533, test loss=0.3539254238257314, duration=0:00:35.399682\n",
      "epoc 30/60, train loss=0.26898238194544344, test loss=0.3641778143620727, duration=0:00:35.469423\n",
      "epoc 31/60, train loss=0.24976504885329123, test loss=0.35177974487737856, duration=0:00:35.618514\n",
      "epoc 32/60, train loss=0.2557101645541756, test loss=0.31703279890341335, duration=0:00:35.973808\n",
      "epoc 33/60, train loss=0.2570246636886103, test loss=0.34798810402355573, duration=0:00:35.820345\n",
      "epoc 34/60, train loss=0.24917087272887217, test loss=0.3273779274619157, duration=0:00:36.147255\n",
      "epoc 35/60, train loss=0.23389232716060934, test loss=0.3616683943068037, duration=0:00:35.697196\n",
      "epoc 36/60, train loss=0.23133964493331916, test loss=0.3471941807777575, duration=0:00:35.342779\n",
      "epoc 37/60, train loss=0.23070730667496261, test loss=0.32388310783570357, duration=0:00:35.853371\n",
      "epoc 38/60, train loss=0.21754656921133883, test loss=0.3494384962290821, duration=0:00:35.506137\n",
      "epoc 39/60, train loss=0.2209100043563697, test loss=0.34967734515932064, duration=0:00:35.586337\n",
      "epoc 40/60, train loss=0.20788705699433785, test loss=0.32158365004723616, duration=0:00:35.350090\n",
      "epoc 41/60, train loss=0.19789720084657544, test loss=0.33105010791488065, duration=0:00:35.997935\n",
      "epoc 42/60, train loss=0.192771459112125, test loss=0.3277181211379495, duration=0:00:35.282754\n",
      "epoc 43/60, train loss=0.19673009161974425, test loss=0.3325547845204278, duration=0:00:35.447532\n",
      "epoc 44/60, train loss=0.18694824181459938, test loss=0.33219454555523276, duration=0:00:35.673232\n",
      "epoc 45/60, train loss=0.19269988342580802, test loss=0.32291756430179763, duration=0:00:35.607225\n",
      "epoc 46/60, train loss=0.1748950244519776, test loss=0.3279621293122816, duration=0:00:35.412542\n",
      "epoc 47/60, train loss=0.17226968444024499, test loss=0.3119074704184884, duration=0:00:35.413313\n",
      "epoc 48/60, train loss=0.1704635178865377, test loss=0.33728778554993394, duration=0:00:35.551423\n",
      "epoc 49/60, train loss=0.17774127431892026, test loss=0.32600236853404835, duration=0:00:35.706317\n",
      "epoc 50/60, train loss=0.15999451697748293, test loss=0.31564209647032193, duration=0:00:35.392075\n",
      "epoc 51/60, train loss=0.16191645502635368, test loss=0.35774704412843034, duration=0:00:35.924165\n",
      "epoc 52/60, train loss=0.16766089721213553, test loss=0.3301497374172553, duration=0:00:36.206339\n",
      "epoc 53/60, train loss=0.15869616095831343, test loss=0.32880984724379414, duration=0:00:38.965048\n",
      "epoc 54/60, train loss=0.15021818113209043, test loss=0.3349383772018891, duration=0:00:35.621469\n",
      "epoc 55/60, train loss=0.15318838299421636, test loss=0.31177783381346025, duration=0:00:35.373631\n",
      "epoc 56/60, train loss=0.14431659171144082, test loss=0.3180870831123378, duration=0:00:36.483354\n",
      "epoc 57/60, train loss=0.14649219060940274, test loss=0.37137037271283346, duration=0:00:40.476597\n",
      "epoc 58/60, train loss=0.14974199184837828, test loss=0.27556627447541693, duration=0:00:40.358111\n",
      "epoc 59/60, train loss=0.1467735598878726, test loss=0.35733309535696955, duration=0:00:40.753807\n"
     ]
    }
   ],
   "source": [
    "epocs = 60\n",
    "train_losses = np.zeros(epocs)\n",
    "test_losses = np.zeros(epocs)\n",
    "for i in range(epocs):\n",
    "  d0 = datetime.datetime.now()\n",
    "  train_loss = []\n",
    "  for inputs, targets in train_loader:\n",
    "    inputs, targets = inputs.to(device), targets.to(device)\n",
    "    optimizer.zero_grad()\n",
    "    outputs = model(inputs)\n",
    "    loss = criterion(outputs, targets)\n",
    "    train_loss.append(loss.item())\n",
    "    loss.backward()\n",
    "    optimizer.step()\n",
    "  \n",
    "  train_losses[i] = np.mean(train_loss)\n",
    "  test_loss = []\n",
    "  for inputs, targets in val_loader:\n",
    "    inputs, targets = inputs.to(device), targets.to(device)\n",
    "    outputs = model(inputs)\n",
    "    loss = criterion(outputs, targets)\n",
    "    test_loss.append(loss.item())\n",
    "\n",
    "  test_losses[i] = np.mean(test_loss)\n",
    "  dt = datetime.datetime.now() - d0\n",
    "  print(f\"epoc {i}/{epocs}, train loss={train_losses[i]}, test loss={test_losses[i]}, duration={dt}\")"
   ]
  },
  {
   "cell_type": "markdown",
   "metadata": {
    "papermill": {
     "duration": 0.025722,
     "end_time": "2022-02-09T17:03:37.371674",
     "exception": false,
     "start_time": "2022-02-09T17:03:37.345952",
     "status": "completed"
    },
    "tags": []
   },
   "source": [
    "# Accuracy of the model on test_set"
   ]
  },
  {
   "cell_type": "code",
   "execution_count": 5,
   "metadata": {
    "execution": {
     "iopub.execute_input": "2022-02-09T17:03:37.428184Z",
     "iopub.status.busy": "2022-02-09T17:03:37.427441Z",
     "iopub.status.idle": "2022-02-09T17:03:56.793303Z",
     "shell.execute_reply": "2022-02-09T17:03:56.793911Z",
     "shell.execute_reply.started": "2022-02-09T16:14:52.022152Z"
    },
    "papermill": {
     "duration": 19.396998,
     "end_time": "2022-02-09T17:03:56.794106",
     "exception": false,
     "start_time": "2022-02-09T17:03:37.397108",
     "status": "completed"
    },
    "tags": []
   },
   "outputs": [
    {
     "name": "stdout",
     "output_type": "stream",
     "text": [
      "80.178\n"
     ]
    }
   ],
   "source": [
    "n_corrects = 0\n",
    "n_total = 0\n",
    "for inputs, targets in test_loader:\n",
    "  inputs, targets = inputs.to(device), targets.to(device)\n",
    "  outputs = model(inputs)\n",
    "\n",
    "  _,pred = torch.max(outputs, 1)\n",
    "  n_corrects += (pred == targets).sum().item()\n",
    "  n_total += targets.shape[0]\n",
    "  \n",
    "acc = (n_corrects/n_total)*100\n",
    "print(round(acc, 3))"
   ]
  },
  {
   "cell_type": "code",
   "execution_count": 6,
   "metadata": {
    "execution": {
     "iopub.execute_input": "2022-02-09T17:03:56.849947Z",
     "iopub.status.busy": "2022-02-09T17:03:56.849092Z",
     "iopub.status.idle": "2022-02-09T17:03:57.070923Z",
     "shell.execute_reply": "2022-02-09T17:03:57.070383Z",
     "shell.execute_reply.started": "2022-02-09T16:16:36.557031Z"
    },
    "papermill": {
     "duration": 0.252026,
     "end_time": "2022-02-09T17:03:57.071069",
     "exception": false,
     "start_time": "2022-02-09T17:03:56.819043",
     "status": "completed"
    },
    "tags": []
   },
   "outputs": [
    {
     "data": {
      "text/plain": [
       "[<matplotlib.lines.Line2D at 0x7f54ba2457d0>]"
      ]
     },
     "execution_count": 6,
     "metadata": {},
     "output_type": "execute_result"
    },
    {
     "data": {
      "image/png": "[encoded data removed]",
      "text/plain": [
       "<Figure size 432x288 with 1 Axes>"
      ]
     },
     "metadata": {
      "needs_background": "light"
     },
     "output_type": "display_data"
    }
   ],
   "source": [
    "plt.plot(np.arange(epocs), train_losses, color='blue')\n",
    "plt.plot(np.arange(epocs), test_losses, color='orange')"
   ]
  },
  {
   "cell_type": "code",
   "execution_count": 7,
   "metadata": {
    "execution": {
     "iopub.execute_input": "2022-02-09T17:03:57.165995Z",
     "iopub.status.busy": "2022-02-09T17:03:57.160729Z",
     "iopub.status.idle": "2022-02-09T17:03:57.340598Z",
     "shell.execute_reply": "2022-02-09T17:03:57.341910Z",
     "shell.execute_reply.started": "2022-02-09T16:17:55.997482Z"
    },
    "papermill": {
     "duration": 0.240965,
     "end_time": "2022-02-09T17:03:57.342139",
     "exception": false,
     "start_time": "2022-02-09T17:03:57.101174",
     "status": "completed"
    },
    "tags": []
   },
   "outputs": [],
   "source": [
    "torch.save(model.state_dict(), \"model.pt\")"
   ]
  },
  {
   "cell_type": "code",
   "execution_count": null,
   "metadata": {
    "papermill": {
     "duration": 0.048463,
     "end_time": "2022-02-09T17:03:57.440564",
     "exception": false,
     "start_time": "2022-02-09T17:03:57.392101",
     "status": "completed"
    },
    "tags": []
   },
   "outputs": [],
   "source": []
  }
 ],
 "metadata": {
  "kernelspec": {
   "display_name": "Python 3",
   "language": "python",
   "name": "python3"
  },
  "language_info": {
   "codemirror_mode": {
    "name": "ipython",
    "version": 3
   },
   "file_extension": ".py",
   "mimetype": "text/x-python",
   "name": "python",
   "nbconvert_exporter": "python",
   "pygments_lexer": "ipython3",
   "version": "3.8.5"
  },
  "papermill": {
   "default_parameters": {},
   "duration": 2257.137423,
   "end_time": "2022-02-09T17:03:59.009140",
   "environment_variables": {},
   "exception": null,
   "input_path": "__notebook__.ipynb",
   "output_path": "__notebook__.ipynb",
   "parameters": {},
   "start_time": "2022-02-09T16:26:21.871717",
   "version": "2.3.3"
  }
 },
 "nbformat": 4,
 "nbformat_minor": 5
}
