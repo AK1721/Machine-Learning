{
 "cells": [
  {
   "cell_type": "code",
   "execution_count": 1,
   "id": "1de9fd21",
   "metadata": {
    "execution": {
     "iopub.execute_input": "2022-02-12T17:37:55.698526Z",
     "iopub.status.busy": "2022-02-12T17:37:55.697067Z",
     "iopub.status.idle": "2022-02-12T17:37:57.335764Z",
     "shell.execute_reply": "2022-02-12T17:37:57.334788Z",
     "shell.execute_reply.started": "2022-02-12T17:09:32.462091Z"
    },
    "id": "4cK2Wm4XyBOa",
    "papermill": {
     "duration": 1.653432,
     "end_time": "2022-02-12T17:37:57.335925",
     "exception": false,
     "start_time": "2022-02-12T17:37:55.682493",
     "status": "completed"
    },
    "tags": []
   },
   "outputs": [],
   "source": [
    "from torchvision.datasets import ImageFolder\n",
    "from torchvision import transforms\n",
    "from torch.utils.data import DataLoader, Subset, Dataset\n",
    "import torch\n",
    "import torch.nn as nn\n",
    "import torch.nn.functional as F\n",
    "import numpy as np\n",
    "import datetime\n",
    "import matplotlib.pyplot as plt\n",
    "import pandas as pd\n"
   ]
  },
  {
   "cell_type": "markdown",
   "id": "74ce538b",
   "metadata": {
    "papermill": {
     "duration": 0.010164,
     "end_time": "2022-02-12T17:37:57.358707",
     "exception": false,
     "start_time": "2022-02-12T17:37:57.348543",
     "status": "completed"
    },
    "tags": []
   },
   "source": [
    "# Data Preparation"
   ]
  },
  {
   "cell_type": "code",
   "execution_count": 2,
   "id": "16c68019",
   "metadata": {
    "execution": {
     "iopub.execute_input": "2022-02-12T17:37:57.388895Z",
     "iopub.status.busy": "2022-02-12T17:37:57.388360Z",
     "iopub.status.idle": "2022-02-12T17:38:35.077060Z",
     "shell.execute_reply": "2022-02-12T17:38:35.076111Z",
     "shell.execute_reply.started": "2022-02-12T17:11:04.171376Z"
    },
    "id": "dKR2t0B-0cAe",
    "outputId": "72d4d210-bed9-46de-e9de-aa2fa514499b",
    "papermill": {
     "duration": 37.708162,
     "end_time": "2022-02-12T17:38:35.077218",
     "exception": false,
     "start_time": "2022-02-12T17:37:57.369056",
     "status": "completed"
    },
    "tags": []
   },
   "outputs": [],
   "source": [
    "transformer = transforms.Compose([\n",
    "  transforms.ToTensor()\n",
    "])\n",
    "\n",
    "dataset = ImageFolder(\"../input/traffic-signs-classification/myData\")\n",
    "validation_split = 0.2\n",
    "random_seed = 11\n",
    "dataset_size = len(dataset)\n",
    "classes = len(set(dataset.targets)) \n",
    "indices = list(range(dataset_size))\n",
    "split = int(np.floor(dataset_size * validation_split))\n",
    "\n",
    "np.random.seed(random_seed)\n",
    "np.random.shuffle(indices)\n",
    "\n",
    "train_indices, val_indices = indices[split:], indices[:split]\n",
    "\n",
    "train_dataset = Subset(dataset, train_indices)\n",
    "val_dataset = Subset(dataset, val_indices)\n",
    "\n",
    "class map_transform(Dataset):\n",
    "  def __init__(self, dataset, map_fn):\n",
    "    self.dataset = dataset\n",
    "    self.map_fn = map_fn\n",
    "\n",
    "  def __getitem__(self, index):\n",
    "    return self.map_fn(self.dataset[index][0]), self.dataset[index][1]\n",
    "\n",
    "  def __len__(self):\n",
    "    return len(self.dataset)\n",
    "\n",
    "train_transformer = transforms.Compose([\n",
    "  transforms.RandomHorizontalFlip(),\n",
    "  transforms.RandomRotation(10),\n",
    "  transforms.ToTensor()\n",
    "])\n",
    "\n",
    "val_transformer = transforms.ToTensor()\n",
    "\n",
    "train_dataset = map_transform(train_dataset, train_transformer)\n",
    "val_dataset = map_transform(val_dataset, val_transformer)\n",
    "\n",
    "batch_size = 128\n",
    "train_loader = DataLoader(dataset= train_dataset, batch_size=batch_size)\n",
    "val_loader = DataLoader(dataset= val_dataset, batch_size=batch_size)\n"
   ]
  },
  {
   "cell_type": "markdown",
   "id": "4ab03e64",
   "metadata": {
    "papermill": {
     "duration": 0.011051,
     "end_time": "2022-02-12T17:38:35.099702",
     "exception": false,
     "start_time": "2022-02-12T17:38:35.088651",
     "status": "completed"
    },
    "tags": []
   },
   "source": [
    "# The CNN Model"
   ]
  },
  {
   "cell_type": "code",
   "execution_count": 3,
   "id": "54e7215d",
   "metadata": {
    "execution": {
     "iopub.execute_input": "2022-02-12T17:38:35.132423Z",
     "iopub.status.busy": "2022-02-12T17:38:35.131544Z",
     "iopub.status.idle": "2022-02-12T17:38:35.170553Z",
     "shell.execute_reply": "2022-02-12T17:38:35.170150Z",
     "shell.execute_reply.started": "2022-02-12T17:11:27.344644Z"
    },
    "id": "z0lg0kf_1SDe",
    "papermill": {
     "duration": 0.060085,
     "end_time": "2022-02-12T17:38:35.170693",
     "exception": false,
     "start_time": "2022-02-12T17:38:35.110608",
     "status": "completed"
    },
    "tags": []
   },
   "outputs": [],
   "source": [
    "model = nn.Sequential(\n",
    "    nn.Conv2d(3, 32, kernel_size=5, padding=2, bias=False),\n",
    "    nn.ReLU(),\n",
    "    nn.BatchNorm2d(32),\n",
    "    nn.MaxPool2d(2),\n",
    "    nn.Conv2d(32, 64, kernel_size=5, padding=2, bias=False),\n",
    "    nn.ReLU(),\n",
    "    nn.BatchNorm2d(64),\n",
    "    nn.MaxPool2d(2),\n",
    "    nn.Conv2d(64, 128, kernel_size=5, padding=2, bias=False),\n",
    "    nn.ReLU(),\n",
    "    nn.BatchNorm2d(128),\n",
    "    nn.MaxPool2d(2),\n",
    "    nn.Flatten(),\n",
    "    nn.Linear(128*4*4, 256),\n",
    "    nn.ReLU(),\n",
    "    nn.Linear(256, classes)\n",
    ")"
   ]
  },
  {
   "cell_type": "markdown",
   "id": "3180432b",
   "metadata": {
    "papermill": {
     "duration": 0.010015,
     "end_time": "2022-02-12T17:38:35.191276",
     "exception": false,
     "start_time": "2022-02-12T17:38:35.181261",
     "status": "completed"
    },
    "tags": []
   },
   "source": [
    "# Training the model on the data"
   ]
  },
  {
   "cell_type": "code",
   "execution_count": 4,
   "id": "bd9bc965",
   "metadata": {
    "execution": {
     "iopub.execute_input": "2022-02-12T17:38:35.215256Z",
     "iopub.status.busy": "2022-02-12T17:38:35.214466Z",
     "iopub.status.idle": "2022-02-12T17:38:37.823150Z",
     "shell.execute_reply": "2022-02-12T17:38:37.822656Z",
     "shell.execute_reply.started": "2022-02-12T17:11:30.726075Z"
    },
    "id": "bQXGzTPGEZnX",
    "papermill": {
     "duration": 2.621222,
     "end_time": "2022-02-12T17:38:37.823283",
     "exception": false,
     "start_time": "2022-02-12T17:38:35.202061",
     "status": "completed"
    },
    "tags": []
   },
   "outputs": [],
   "source": [
    "device = torch.device(\"cuda:0\")\n",
    "model.to(device)\n",
    "criterion = nn.CrossEntropyLoss()\n",
    "optimizer = torch.optim.Adam(model.parameters())"
   ]
  },
  {
   "cell_type": "code",
   "execution_count": 5,
   "id": "57e4e9ef",
   "metadata": {
    "execution": {
     "iopub.execute_input": "2022-02-12T17:38:37.853725Z",
     "iopub.status.busy": "2022-02-12T17:38:37.853096Z",
     "iopub.status.idle": "2022-02-12T17:58:06.648276Z",
     "shell.execute_reply": "2022-02-12T17:58:06.648884Z",
     "shell.execute_reply.started": "2022-02-12T17:15:05.717569Z"
    },
    "id": "qaHuDW9CE4Gt",
    "outputId": "5c2ef232-078e-4ccf-aca2-ba3c1c0e93a4",
    "papermill": {
     "duration": 1168.815226,
     "end_time": "2022-02-12T17:58:06.649091",
     "exception": false,
     "start_time": "2022-02-12T17:38:37.833865",
     "status": "completed"
    },
    "tags": []
   },
   "outputs": [
    {
     "name": "stdout",
     "output_type": "stream",
     "text": [
      "epoc 1/8, train loss=0.6182485099345055, test loss=0.13664013134396594, duration=0:04:40.622693\n",
      "epoc 2/8, train loss=0.09560094279639715, test loss=0.06270517161035019, duration=0:02:13.022495\n",
      "epoc 3/8, train loss=0.05693824705616957, test loss=0.033152150664397556, duration=0:02:06.175625\n",
      "epoc 4/8, train loss=0.04765240271007907, test loss=0.043527580616469295, duration=0:02:04.633301\n",
      "epoc 5/8, train loss=0.04063943562765838, test loss=0.05815580166957301, duration=0:02:03.379741\n",
      "epoc 6/8, train loss=0.04967270829657898, test loss=0.03741467901272699, duration=0:02:08.356248\n",
      "epoc 7/8, train loss=0.028460264324206643, test loss=0.04578661942328124, duration=0:02:06.747502\n",
      "epoc 8/8, train loss=0.03062990854680335, test loss=0.0244111008236043, duration=0:02:05.840618\n"
     ]
    }
   ],
   "source": [
    "epocs = 8\n",
    "train_losses = np.zeros(epocs)\n",
    "test_losses = np.zeros(epocs)\n",
    "for i in range(epocs):\n",
    "  d0 = datetime.datetime.now()\n",
    "  train_loss = []\n",
    "  for inputs, targets in train_loader:\n",
    "    inputs, targets = inputs.to(device), targets.to(device)\n",
    "    optimizer.zero_grad()\n",
    "    outputs = model(inputs)\n",
    "    loss = criterion(outputs, targets)\n",
    "    train_loss.append(loss.item())\n",
    "    loss.backward()\n",
    "    optimizer.step()\n",
    "  \n",
    "  train_losses[i] = np.mean(train_loss)\n",
    "  test_loss = []\n",
    "  for inputs, targets in val_loader:\n",
    "    inputs, targets = inputs.to(device), targets.to(device)\n",
    "    outputs = model(inputs)\n",
    "    loss = criterion(outputs, targets)\n",
    "    test_loss.append(loss.item())\n",
    "\n",
    "  test_losses[i] = np.mean(test_loss)\n",
    "  dt = datetime.datetime.now() - d0\n",
    "  print(f\"epoc {i+1}/{epocs}, train loss={train_losses[i]}, test loss={test_losses[i]}, duration={dt}\")"
   ]
  },
  {
   "cell_type": "markdown",
   "id": "0c87d4c3",
   "metadata": {
    "papermill": {
     "duration": 0.013096,
     "end_time": "2022-02-12T17:58:06.676006",
     "exception": false,
     "start_time": "2022-02-12T17:58:06.662910",
     "status": "completed"
    },
    "tags": []
   },
   "source": [
    "# Model accuracy on Validation set"
   ]
  },
  {
   "cell_type": "code",
   "execution_count": 6,
   "id": "4b676611",
   "metadata": {
    "execution": {
     "iopub.execute_input": "2022-02-12T17:58:06.707512Z",
     "iopub.status.busy": "2022-02-12T17:58:06.707013Z",
     "iopub.status.idle": "2022-02-12T17:58:32.226523Z",
     "shell.execute_reply": "2022-02-12T17:58:32.226956Z",
     "shell.execute_reply.started": "2022-02-12T17:36:35.483841Z"
    },
    "id": "9RBEzLoLE-kL",
    "outputId": "d89bffa9-7def-44df-d154-5ab0470f6779",
    "papermill": {
     "duration": 25.537937,
     "end_time": "2022-02-12T17:58:32.227120",
     "exception": false,
     "start_time": "2022-02-12T17:58:06.689183",
     "status": "completed"
    },
    "tags": []
   },
   "outputs": [
    {
     "name": "stdout",
     "output_type": "stream",
     "text": [
      "99.193\n"
     ]
    }
   ],
   "source": [
    "n_corrects = 0\n",
    "n_total = 0\n",
    "for inputs, targets in val_loader:\n",
    "  inputs, targets = inputs.to(device), targets.to(device)\n",
    "  outputs = model(inputs)\n",
    "\n",
    "  _,pred = torch.max(outputs, 1)\n",
    "  n_corrects += (pred == targets).sum().item()\n",
    "  n_total += targets.shape[0]\n",
    "  \n",
    "acc = (n_corrects/n_total)*100\n",
    "print(round(acc, 3))"
   ]
  },
  {
   "cell_type": "code",
   "execution_count": 7,
   "id": "e1e09457",
   "metadata": {
    "execution": {
     "iopub.execute_input": "2022-02-12T17:58:32.262207Z",
     "iopub.status.busy": "2022-02-12T17:58:32.261427Z",
     "iopub.status.idle": "2022-02-12T17:58:32.475534Z",
     "shell.execute_reply": "2022-02-12T17:58:32.475110Z",
     "shell.execute_reply.started": "2022-02-12T17:37:18.942796Z"
    },
    "id": "ztchamD1bjHX",
    "papermill": {
     "duration": 0.235183,
     "end_time": "2022-02-12T17:58:32.475685",
     "exception": false,
     "start_time": "2022-02-12T17:58:32.240502",
     "status": "completed"
    },
    "tags": []
   },
   "outputs": [
    {
     "data": {
      "text/plain": [
       "[<matplotlib.lines.Line2D at 0x7f43d31b0550>]"
      ]
     },
     "execution_count": 7,
     "metadata": {},
     "output_type": "execute_result"
    },
    {
     "data": {
      "image/png": "[encoded data removed]",
      "text/plain": [
       "<Figure size 432x288 with 1 Axes>"
      ]
     },
     "metadata": {
      "needs_background": "light"
     },
     "output_type": "display_data"
    }
   ],
   "source": [
    "plt.plot(np.arange(epocs), train_losses, color='blue')\n",
    "plt.plot(np.arange(epocs), test_losses, color='orange')"
   ]
  },
  {
   "cell_type": "code",
   "execution_count": 8,
   "id": "7307b77b",
   "metadata": {
    "execution": {
     "iopub.execute_input": "2022-02-12T17:58:32.508740Z",
     "iopub.status.busy": "2022-02-12T17:58:32.508224Z",
     "iopub.status.idle": "2022-02-12T17:58:32.520683Z",
     "shell.execute_reply": "2022-02-12T17:58:32.520245Z",
     "shell.execute_reply.started": "2022-02-12T17:37:24.826596Z"
    },
    "papermill": {
     "duration": 0.030698,
     "end_time": "2022-02-12T17:58:32.520796",
     "exception": false,
     "start_time": "2022-02-12T17:58:32.490098",
     "status": "completed"
    },
    "tags": []
   },
   "outputs": [],
   "source": [
    "torch.save(model.state_dict(), \"model.pt\")"
   ]
  },
  {
   "cell_type": "code",
   "execution_count": null,
   "id": "e9cb0fbe",
   "metadata": {
    "papermill": {
     "duration": 0.014208,
     "end_time": "2022-02-12T17:58:32.549634",
     "exception": false,
     "start_time": "2022-02-12T17:58:32.535426",
     "status": "completed"
    },
    "tags": []
   },
   "outputs": [],
   "source": []
  }
 ],
 "metadata": {
  "kernelspec": {
   "display_name": "Python 3",
   "language": "python",
   "name": "python3"
  },
  "language_info": {
   "codemirror_mode": {
    "name": "ipython",
    "version": 3
   },
   "file_extension": ".py",
   "mimetype": "text/x-python",
   "name": "python",
   "nbconvert_exporter": "python",
   "pygments_lexer": "ipython3",
   "version": "3.7.12"
  },
  "papermill": {
   "default_parameters": {},
   "duration": 1245.940634,
   "end_time": "2022-02-12T17:58:33.775452",
   "environment_variables": {},
   "exception": null,
   "input_path": "__notebook__.ipynb",
   "output_path": "__notebook__.ipynb",
   "parameters": {},
   "start_time": "2022-02-12T17:37:47.834818",
   "version": "2.3.3"
  }
 },
 "nbformat": 4,
 "nbformat_minor": 5
}
